{
 "cells": [
  {
   "cell_type": "markdown",
   "id": "8de285bd",
   "metadata": {},
   "source": [
    "# Load modules"
   ]
  },
  {
   "cell_type": "code",
   "execution_count": null,
   "id": "5bcf7d21",
   "metadata": {},
   "outputs": [],
   "source": [
    "# Setup for PyZentropy development\n",
    "import sys\n",
    "sys.path.append(\"../../\")  # path to pyzentropy root\n",
    "\n",
    "# Enable autoreload of modules\n",
    "%reload_ext autoreload\n",
    "%autoreload 2\n",
    "\n",
    "# Third-party imports\n",
    "import numpy as np\n",
    "import pickle\n",
    "\n",
    "# PyZentropy imports\n",
    "from pyzentropy.configuration import Configuration\n",
    "from pyzentropy.system import System"
   ]
  },
  {
   "cell_type": "markdown",
   "id": "33ccd361",
   "metadata": {},
   "source": [
    "# Load the Fe₃Pt Data\n",
    "\n",
    "This section loads the lowest three energy configurations for the Fe₃Pt 12-atom supercell from a pickle file. The data includes Helmholtz energies and their derivatives, entropies, and heat capacities. All input data was generated using the DFTTK package."
   ]
  },
  {
   "cell_type": "code",
   "execution_count": null,
   "id": "60062ab7",
   "metadata": {},
   "outputs": [],
   "source": [
    "# Load the Fe3Pt input data\n",
    "with open(\"Fe3Pt_input.pkl\", \"rb\") as f:\n",
    "    input = pickle.load(f)"
   ]
  },
  {
   "cell_type": "markdown",
   "id": "a84bcbd4",
   "metadata": {},
   "source": [
    "# PyZentropy Configuration Objects\n",
    "\n",
    "This section constructs PyZentropy `Configuration` objects for each Fe₃Pt configuration. Properties at 0 K are excluded to avoid division by zero errors. For each configuration, internal energies and partition functions are calculated."
   ]
  },
  {
   "cell_type": "code",
   "execution_count": null,
   "id": "eba55270",
   "metadata": {},
   "outputs": [],
   "source": [
    "# Extract basic properties from the reference configuration\n",
    "number_of_atoms = input[\"config_0\"]['number_of_atoms']\n",
    "volumes = input[\"config_0\"]['volumes']\n",
    "temperatures = input[\"config_0\"]['temperatures'] "
   ]
  },
  {
   "cell_type": "code",
   "execution_count": null,
   "id": "94b75a4b",
   "metadata": {},
   "outputs": [],
   "source": [
    "# Initialize dictionary to hold Configuration objects\n",
    "config_objects = {}\n",
    "\n",
    "for config_name in input:\n",
    "    config = input[config_name]\n",
    "\n",
    "    # Create a Configuration object for each config and store in the dictionary\n",
    "    config_objects[config_name] = Configuration(\n",
    "        name=config_name,\n",
    "        multiplicity=config['multiplicity'],\n",
    "        number_of_atoms=number_of_atoms,\n",
    "        volumes=volumes,\n",
    "        temperatures=temperatures,\n",
    "        # Extract Helmholtz energies and their derivatives from DFTTK results\n",
    "        helmholtz_energies=config['helmholtz_energy'],\n",
    "        helmholtz_energies_dV=config['helmholtz_energy_dV'],\n",
    "        helmholtz_energies_d2V2=config['helmholtz_energy_d2V2'],\n",
    "        # Extract entropy and heat capacity data\n",
    "        entropies=config['entropy'],\n",
    "        heat_capacities=config['heat_capacity']\n",
    "    )"
   ]
  },
  {
   "cell_type": "code",
   "execution_count": null,
   "id": "3e1b202a",
   "metadata": {},
   "outputs": [],
   "source": [
    "# Calculate internal energies for each configuration\n",
    "for config in config_objects.values():\n",
    "    config.calculate_internal_energies()\n",
    "\n",
    "# Use the ground state configuration as reference for partition function calculations\n",
    "reference_helmholtz_energy = config_objects[\"config_0\"].helmholtz_energies\n",
    "\n",
    "# Calculate partition functions for each configuration using the reference energy\n",
    "for config in config_objects.values():\n",
    "    config.calculate_partition_functions(reference_helmholtz_energy)"
   ]
  },
  {
   "cell_type": "markdown",
   "id": "2979bf50",
   "metadata": {},
   "source": [
    "Plot Helmholtz energy as a function of volume for a single configuration.\n",
    "\n",
    "You can change the configuration name (e.g., \"config_0\") to plot other configurations.\n",
    "\n",
    "**Available plot types:**\n",
    "- \"helmholtz_energy_vs_volume\"\n",
    "- \"helmholtz_energy_vs_temperature\"\n",
    "- \"internal_energy_vs_volume\"\n",
    "- \"internal_energy_vs_temperature\"\n",
    "- \"entropy_vs_volume\"\n",
    "- \"entropy_vs_temperature\"\n",
    "- \"heat_capacity_vs_volume\"\n",
    "- \"heat_capacity_vs_temperature\"\n"
   ]
  },
  {
   "cell_type": "code",
   "execution_count": null,
   "id": "5005615c",
   "metadata": {},
   "outputs": [],
   "source": [
    "config_objects[\"config_0\"].plot(\"helmholtz_energy_vs_volume\")"
   ]
  },
  {
   "cell_type": "code",
   "execution_count": null,
   "id": "fc531047",
   "metadata": {},
   "outputs": [],
   "source": [
    "# You can also plot for selected temperatures by passing an array of temperatures.\n",
    "# The code will automatically find and use the closest available temperatures.\n",
    "selected_temperatures = np.array([100, 300, 600, 900])\n",
    "config_objects[\"config_0\"].plot(\"helmholtz_energy_vs_volume\", selected_temperatures=selected_temperatures)"
   ]
  },
  {
   "cell_type": "code",
   "execution_count": null,
   "id": "f20808b0",
   "metadata": {},
   "outputs": [],
   "source": [
    "# You can also plot for selected volumes by passing an array of volumes.\n",
    "# The code will automatically find and use the closest available volumes.\n",
    "selected_volumes = np.array([100, 120, 140, 160])\n",
    "config_objects[\"config_0\"].plot(\"helmholtz_energy_vs_temperature\", selected_volumes=selected_volumes)"
   ]
  },
  {
   "cell_type": "markdown",
   "id": "b8e57f33",
   "metadata": {},
   "source": [
    "# PyZentropy System Objects\n",
    "\n",
    "This section constructs a PyZentropy `System` object using all Fe₃Pt configurations. Using the zentropy equations, the system partition function, Helmholtz energy and its derivatives, entropy, bulk modulus, heat capacities, and phase diagrams are calculated. Configuration probabilities are also determined."
   ]
  },
  {
   "cell_type": "code",
   "execution_count": null,
   "id": "5d6a78c5",
   "metadata": {},
   "outputs": [],
   "source": [
    "# Create a System object from the configuration objects\n",
    "system = System(config_objects)\n",
    "\n",
    "# Perform thermodynamic calculations for the system\n",
    "system.calculate_partition_functions()\n",
    "system.calculate_probabilities()\n",
    "system.calculate_helmholtz_energies(reference_helmholtz_energy)\n",
    "system.calculate_entropies()\n",
    "system.calculate_helmholtz_energies_dV()\n",
    "system.calculate_bulk_moduli()\n",
    "system.calculate_helmholtz_energies_d2V2()\n",
    "system.calculate_heat_capacities()"
   ]
  },
  {
   "cell_type": "code",
   "execution_count": null,
   "id": "5f9b2a6d",
   "metadata": {},
   "outputs": [],
   "source": [
    "# Calculate phase diagrams with specified ground state configuration. \n",
    "# This also calculates all the properties at constant pressure.\n",
    "system.calculate_phase_diagrams(ground_state=\"config_0\")"
   ]
  },
  {
   "cell_type": "markdown",
   "id": "dc6c34ee",
   "metadata": {},
   "source": [
    "The following are example plots vs. volume or temperature. For all of these plots, you can plot for `selected_temperatures` and `selected_volumes`. The available plots are:\n",
    "\n",
    "**Helmholtz Energy**\n",
    "- \"helmholtz_energy_vs_volume\"\n",
    "- \"helmholtz_energy_vs_temperature\"\n",
    "- \"helmholtz_energy_dV_vs_volume\"\n",
    "- \"helmholtz_energy_dV_vs_temperature\"\n",
    "- \"helmholtz_energy_d2V2_vs_volume\"\n",
    "- \"helmholtz_energy_d2V2_vs_temperature\"\n",
    "\n",
    "**Entropy**\n",
    "- \"entropy_vs_volume\"\n",
    "- \"entropy_vs_temperature\"\n",
    "- \"configurational_entropy_vs_volume\"\n",
    "- \"configurational_entropy_vs_temperature\"\n",
    "\n",
    "**Heat Capacity**\n",
    "- \"heat_capacity_vs_volume\"\n",
    "- \"heat_capacity_vs_temperature\"\n",
    "\n",
    "**Bulk Modulus**\n",
    "- \"bulk_modulus_vs_volume\"\n",
    "- \"bulk_modulus_vs_temperature\"\n",
    "\n",
    "**Phase Diagram**\n",
    "- \"vt_phase_diagram\"\n"
   ]
  },
  {
   "cell_type": "code",
   "execution_count": null,
   "id": "d3eb2bc1",
   "metadata": {},
   "outputs": [],
   "source": [
    "system.plot_vt(\"helmholtz_energy_vs_volume\")"
   ]
  },
  {
   "cell_type": "code",
   "execution_count": null,
   "id": "4f4b7ab4",
   "metadata": {},
   "outputs": [],
   "source": [
    "system.plot_vt(\"entropy_vs_temperature\")"
   ]
  },
  {
   "cell_type": "code",
   "execution_count": null,
   "id": "987276f9",
   "metadata": {},
   "outputs": [],
   "source": [
    "system.plot_vt(\"heat_capacity_vs_temperature\")"
   ]
  },
  {
   "cell_type": "code",
   "execution_count": null,
   "id": "2f736a5a",
   "metadata": {},
   "outputs": [],
   "source": [
    "system.plot_vt(\"bulk_modulus_vs_temperature\")"
   ]
  },
  {
   "cell_type": "code",
   "execution_count": null,
   "id": "26db895f",
   "metadata": {},
   "outputs": [],
   "source": [
    "system.plot_vt(\"vt_phase_diagram\")"
   ]
  },
  {
   "cell_type": "markdown",
   "id": "678a6f4f",
   "metadata": {},
   "source": [
    "The following are example plots for properties at constant pressure. The available plots are:\n",
    "\n",
    "- \"probability_vs_temperature\"\n",
    "- \"helmholtz_energy_pv_vs_volume\"\n",
    "- \"volume_vs_temperature\"\n",
    "- \"CTE_vs_temperature\"\n",
    "- \"LCTE_vs_temperature\"\n",
    "- \"entropy_vs_temperature\"\n",
    "- \"configurational_entropy_vs_temperature\"\n",
    "- \"heat_capacity_vs_temperature\"\n",
    "- \"gibbs_energy_vs_temperature\"\n",
    "- \"bulk_modulus_vs_temperature\"\n",
    "- \"pt_phase_diagram\"\n"
   ]
  },
  {
   "cell_type": "code",
   "execution_count": null,
   "id": "1be403ef",
   "metadata": {},
   "outputs": [],
   "source": [
    "system.plot_pt(\"pt_phase_diagram\")"
   ]
  },
  {
   "cell_type": "code",
   "execution_count": null,
   "id": "f24eb93d",
   "metadata": {},
   "outputs": [],
   "source": [
    "system.plot_pt(\"probability_vs_temperature\", ground_state=\"config_0\", P=0)"
   ]
  },
  {
   "cell_type": "code",
   "execution_count": null,
   "id": "2a171cbd",
   "metadata": {},
   "outputs": [],
   "source": [
    "system.plot_pt(\"helmholtz_energy_pv_vs_volume\", P=0)"
   ]
  },
  {
   "cell_type": "code",
   "execution_count": null,
   "id": "1ca0418c",
   "metadata": {},
   "outputs": [],
   "source": [
    "# You can also plot for selected temperatures by passing an array of temperatures.\n",
    "# The code will automatically find and use the closest available temperatures.\n",
    "selected_temperatures = np.array([100, 300, 600, 900])\n",
    "system.plot_pt(\"helmholtz_energy_pv_vs_volume\", P=0, selected_temperatures=selected_temperatures)"
   ]
  },
  {
   "cell_type": "code",
   "execution_count": null,
   "id": "b87d6972",
   "metadata": {},
   "outputs": [],
   "source": [
    "system.plot_pt(\"volume_vs_temperature\", P=0)"
   ]
  },
  {
   "cell_type": "code",
   "execution_count": null,
   "id": "3b032051",
   "metadata": {},
   "outputs": [],
   "source": [
    "system.plot_pt(\"LCTE_vs_temperature\", P=0)"
   ]
  },
  {
   "cell_type": "code",
   "execution_count": null,
   "id": "13f91e53",
   "metadata": {},
   "outputs": [],
   "source": [
    "system.plot_pt(\"entropy_vs_temperature\", P=0)"
   ]
  },
  {
   "cell_type": "code",
   "execution_count": null,
   "id": "d2a544cd",
   "metadata": {},
   "outputs": [],
   "source": [
    "system.plot_pt(\"heat_capacity_vs_temperature\", P=0)"
   ]
  },
  {
   "cell_type": "code",
   "execution_count": null,
   "id": "bb30e4e6",
   "metadata": {},
   "outputs": [],
   "source": [
    "system.plot_pt(\"gibbs_energy_vs_temperature\", P=0)"
   ]
  }
 ],
 "metadata": {
  "kernelspec": {
   "display_name": "pyzentropy",
   "language": "python",
   "name": "python3"
  },
  "language_info": {
   "codemirror_mode": {
    "name": "ipython",
    "version": 3
   },
   "file_extension": ".py",
   "mimetype": "text/x-python",
   "name": "python",
   "nbconvert_exporter": "python",
   "pygments_lexer": "ipython3",
   "version": "3.12.9"
  }
 },
 "nbformat": 4,
 "nbformat_minor": 5
}
